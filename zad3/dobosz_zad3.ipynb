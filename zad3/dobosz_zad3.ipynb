{
 "cells": [
  {
   "cell_type": "code",
   "execution_count": 73,
   "metadata": {},
   "outputs": [],
   "source": [
    "from queue import PriorityQueue\n",
    "from bitarray import bitarray\n",
    "from collections import defaultdict"
   ]
  },
  {
   "cell_type": "code",
   "execution_count": null,
   "metadata": {},
   "outputs": [],
   "source": []
  },
  {
   "cell_type": "code",
   "execution_count": 124,
   "metadata": {},
   "outputs": [],
   "source": [
    "def static_codes(text):\n",
    "    counts = defaultdict(lambda: 0)\n",
    "    codes = defaultdict(lambda: \"\")\n",
    "\n",
    "    # Liczę wystąpienia poszczególnych liter w tekście\n",
    "    for letter in text:\n",
    "        counts[letter] += 1\n",
    "\n",
    "    # Wrzucam wszystko do kolejki w postaci:\n",
    "    # (ilość, indeks (żeby klucze były unikatowe), {litera})\n",
    "    Q = PriorityQueue()\n",
    "    for e in map(lambda x: (x[1][1], x[0], {x[1][0]}), enumerate(counts.items())):\n",
    "        Q.put(e)\n",
    "\n",
    "    while not Q.empty():\n",
    "        a = Q.get()\n",
    "\n",
    "        if Q.empty():\n",
    "            break\n",
    "\n",
    "        b = Q.get()\n",
    "\n",
    "        # Odświeżam kody wszystkich potomków obecnego węzła w drzewie\n",
    "        for child in a[2]:\n",
    "            codes[child] = \"0\" + codes[child]\n",
    "        for child in b[2]:\n",
    "            codes[child] = \"1\" + codes[child]\n",
    "\n",
    "        # Wstawiam do kolejki wszystkich potomków jako nowy węzeł\n",
    "        children = a[2] | b[2]\n",
    "        Q.put((a[0] + b[0], a[1], children))\n",
    "\n",
    "    return codes\n",
    "\n",
    "\n",
    "def static_encode(text, codes):\n",
    "    compressed = bitarray()\n",
    "\n",
    "    for letter in text:\n",
    "        compressed.extend(codes[letter])\n",
    "\n",
    "    return compressed\n",
    "\n",
    "\n",
    "def static_compress(text, output):\n",
    "    codes = static_codes(text)\n",
    "    compressed = static_encode(text, codes)\n",
    "\n",
    "    with open(output, \"w\") as file:\n",
    "        file.write(str(len(codes)))\n",
    "        file.write(str(len(compressed)))\n",
    "\n",
    "        for letter, code in codes.items():\n",
    "            file.write(letter)\n",
    "            file.write(str(len(code)))\n",
    "    \n"
   ]
  },
  {
   "cell_type": "code",
   "execution_count": 103,
   "metadata": {},
   "outputs": [],
   "source": [
    "text = \"asdfasdasa\""
   ]
  },
  {
   "cell_type": "code",
   "execution_count": 125,
   "metadata": {},
   "outputs": [],
   "source": [
    "static_compress(text, \"file\")"
   ]
  },
  {
   "cell_type": "code",
   "execution_count": null,
   "metadata": {},
   "outputs": [],
   "source": [
    "def dynamic_encode(text):\n",
    "    pass\n"
   ]
  },
  {
   "cell_type": "code",
   "execution_count": null,
   "metadata": {},
   "outputs": [],
   "source": [
    "def decode(path):\n",
    "    with open(path, \"rb\") as file:\n",
    "        pass"
   ]
  },
  {
   "cell_type": "code",
   "execution_count": null,
   "metadata": {},
   "outputs": [],
   "source": [
    "def compress(alghorithm):\n",
    "    pass\n"
   ]
  }
 ],
 "metadata": {
  "interpreter": {
   "hash": "0b1ae806c3568f9b1e7bc489398a2fb4741bdb8859d7785d16566c7a05494521"
  },
  "kernelspec": {
   "display_name": "Python 3.8.8 64-bit ('base': conda)",
   "name": "python3"
  },
  "language_info": {
   "codemirror_mode": {
    "name": "ipython",
    "version": 3
   },
   "file_extension": ".py",
   "mimetype": "text/x-python",
   "name": "python",
   "nbconvert_exporter": "python",
   "pygments_lexer": "ipython3",
   "version": "3.8.8"
  },
  "orig_nbformat": 4
 },
 "nbformat": 4,
 "nbformat_minor": 2
}
