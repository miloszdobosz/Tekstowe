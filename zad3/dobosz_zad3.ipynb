{
 "cells": [
  {
   "cell_type": "markdown",
   "metadata": {},
   "source": [
    "## Odległość edycyjna"
   ]
  },
  {
   "cell_type": "code",
   "execution_count": 2,
   "metadata": {},
   "outputs": [],
   "source": [
    "import numpy as np"
   ]
  },
  {
   "cell_type": "markdown",
   "metadata": {},
   "source": [
    "### 1. Algorytm:"
   ]
  },
  {
   "cell_type": "code",
   "execution_count": 3,
   "metadata": {},
   "outputs": [],
   "source": [
    "def delta(char1, char2):\n",
    "    return 0 if char1 == char2 else 1\n",
    "    "
   ]
  },
  {
   "cell_type": "code",
   "execution_count": 4,
   "metadata": {},
   "outputs": [],
   "source": [
    "\n",
    "def distance(word1, word2, delta=delta):\n",
    "    n1, n2 = len(word1) + 1, len(word2) + 1\n",
    "\n",
    "    dist = np.empty((n1, n2), dtype=int)\n",
    "    op = np.zeros_like(dist)\n",
    "    dist[:, 0] = np.arange(n1)\n",
    "    dist[0, :] = np.arange(n2)\n",
    "\n",
    "    for i in range(1, n1):\n",
    "        for j in range(1, n2):\n",
    "            dist[i, j], op[i, j] = min(\n",
    "                (dist[i - 1, j] + 1, 1),\n",
    "                (dist[i, j - 1] + 1, 2),\n",
    "                (dist[i - 1, j - 1] + delta(word1[i - 1], word2[j - 1]), 3)\n",
    "            )\n",
    "    \n",
    "    return dist, op\n"
   ]
  },
  {
   "cell_type": "code",
   "execution_count": 5,
   "metadata": {},
   "outputs": [],
   "source": [
    "def get_sequence(dist, op):\n",
    "    result = []\n",
    "    i, j = dist.shape\n",
    "    i -= 1\n",
    "    j -= 1\n",
    "    while(i > 0 and j > 0):\n",
    "        operation = op[i, j]\n",
    "        result.append((i - 1, j - 1, operation))\n",
    "\n",
    "        i -= operation & 1\n",
    "        j -= operation >> 1 & 1\n",
    "        operation = op[i, j]\n",
    "    \n",
    "    return reversed(result)\n",
    "    "
   ]
  },
  {
   "cell_type": "markdown",
   "metadata": {},
   "source": [
    "### 2. Wizualizacja:"
   ]
  },
  {
   "cell_type": "code",
   "execution_count": 6,
   "metadata": {},
   "outputs": [],
   "source": [
    "def visualize(word1, word2):\n",
    "    dist, op = distance(word1, word2)\n",
    "    \n",
    "    print(word1)\n",
    "    word = \"\"\n",
    "    hint = \"\"\n",
    "    for i, j, operation in get_sequence(dist, op):\n",
    "        if operation == 3:\n",
    "            if word1[i] == word2[j]:\n",
    "                word += word1[i]\n",
    "                continue\n",
    "            current = word2[j]\n",
    "            hint = word1[i] + \" -> \" + word2[j]\n",
    "        elif operation == 1:\n",
    "            current = \"\"\n",
    "            hint = \"   - \" + word1[i]\n",
    "        else:\n",
    "            current = word2[j]\n",
    "            hint = \"   + \" + word2[j]\n",
    "        print(word + \"{\" + current + \"}\" + word1[i+1:] + \"\\t\\t\" + hint)\n",
    "        word += current\n",
    "    print(word2)\n",
    "    return dist[-1, -1]\n"
   ]
  },
  {
   "cell_type": "markdown",
   "metadata": {},
   "source": [
    "### 3. Demonstracja:"
   ]
  },
  {
   "cell_type": "code",
   "execution_count": 7,
   "metadata": {},
   "outputs": [
    {
     "name": "stdout",
     "output_type": "stream",
     "text": [
      "los\n",
      "lo{c}\t\ts -> c\n",
      "kloc\n"
     ]
    },
    {
     "data": {
      "text/plain": [
       "2"
      ]
     },
     "execution_count": 7,
     "metadata": {},
     "output_type": "execute_result"
    }
   ],
   "source": [
    "visualize(\"los\", \"kloc\")"
   ]
  },
  {
   "cell_type": "code",
   "execution_count": 8,
   "metadata": {},
   "outputs": [
    {
     "name": "stdout",
     "output_type": "stream",
     "text": [
      "Łódź\n",
      "{L}ódź\t\tŁ -> L\n",
      "L{o}dź\t\tó -> o\n",
      "Lod{z}\t\tź -> z\n",
      "Lodz\n"
     ]
    },
    {
     "data": {
      "text/plain": [
       "3"
      ]
     },
     "execution_count": 8,
     "metadata": {},
     "output_type": "execute_result"
    }
   ],
   "source": [
    "visualize(\"Łódź\", \"Lodz\")"
   ]
  },
  {
   "cell_type": "code",
   "execution_count": 9,
   "metadata": {},
   "outputs": [
    {
     "name": "stdout",
     "output_type": "stream",
     "text": [
      "kwintesencja\n",
      "{q}wintesencja\t\tk -> q\n",
      "q{u}intesencja\t\tw -> u\n",
      "quintes{s}encja\t\t   + s\n",
      "quintessenc{e}a\t\tj -> e\n",
      "quintessence{}\t\t   - a\n",
      "quintessence\n"
     ]
    },
    {
     "data": {
      "text/plain": [
       "5"
      ]
     },
     "execution_count": 9,
     "metadata": {},
     "output_type": "execute_result"
    }
   ],
   "source": [
    "visualize(\"kwintesencja\", \"quintessence\")"
   ]
  },
  {
   "cell_type": "code",
   "execution_count": 10,
   "metadata": {},
   "outputs": [
    {
     "name": "stdout",
     "output_type": "stream",
     "text": [
      "ATGAATCTTACCGCCTCG\n",
      "ATGA{G}TCTTACCGCCTCG\t\tA -> G\n",
      "ATGAG{G}CTTACCGCCTCG\t\tT -> G\n",
      "ATGAGGCT{C}TACCGCCTCG\t\t   + C\n",
      "ATGAGGCTCT{G}CCGCCTCG\t\tA -> G\n",
      "ATGAGGCTCTG{G}CCGCCTCG\t\t   + G\n",
      "ATGAGGCTCTGGCC{}CCTCG\t\t   - G\n",
      "ATGAGGCTCTGGCCCCT{}G\t\t   - C\n",
      "ATGAGGCTCTGGCCCCTG\n"
     ]
    },
    {
     "data": {
      "text/plain": [
       "7"
      ]
     },
     "execution_count": 10,
     "metadata": {},
     "output_type": "execute_result"
    }
   ],
   "source": [
    "visualize(\"ATGAATCTTACCGCCTCG\", \"ATGAGGCTCTGGCCCCTG\")"
   ]
  },
  {
   "cell_type": "markdown",
   "metadata": {},
   "source": [
    "### 4. Najdłuższy wspólny podciąg:"
   ]
  },
  {
   "cell_type": "code",
   "execution_count": 15,
   "metadata": {},
   "outputs": [],
   "source": [
    "def lcs(seq1, seq2, algorithm=distance):\n",
    "    sequence = []\n",
    "    \n",
    "    dist, op = algorithm(seq1, seq2, lambda el1, el2: delta(el1, el2) * 2)\n",
    "    for i, j, op in get_sequence(dist, op):\n",
    "        if op == 3:\n",
    "            sequence.append(seq1[i])\n",
    "    \n",
    "    return sequence\n",
    "    "
   ]
  },
  {
   "cell_type": "markdown",
   "metadata": {},
   "source": [
    "### 5. Podział tekstu na tokeny:"
   ]
  },
  {
   "cell_type": "code",
   "execution_count": 16,
   "metadata": {},
   "outputs": [],
   "source": [
    "with open(\"romeo-i-julia-700.txt\") as file:\n",
    "    text = file.read().split()\n",
    "    "
   ]
  },
  {
   "cell_type": "markdown",
   "metadata": {},
   "source": [
    "### 6. Usuwanie losowych tokenów:"
   ]
  },
  {
   "cell_type": "code",
   "execution_count": 20,
   "metadata": {},
   "outputs": [],
   "source": [
    "a1 = np.random.randint(len(text), size=len(text) * 3 // 100)\n",
    "a2 = np.random.randint(len(text), size=len(text) * 3 // 100)\n",
    "\n",
    "text1 = [token for i, token in enumerate(text) if i not in a1]\n",
    "text2 = [token for i, token in enumerate(text) if i not in a2]\n"
   ]
  },
  {
   "cell_type": "markdown",
   "metadata": {},
   "source": [
    "### 7. Najdłuższy podciąg dla tekstów:"
   ]
  },
  {
   "cell_type": "code",
   "execution_count": 22,
   "metadata": {},
   "outputs": [
    {
     "name": "stdout",
     "output_type": "stream",
     "text": [
      "1832\n",
      "1837\n"
     ]
    },
    {
     "data": {
      "text/plain": [
       "1785"
      ]
     },
     "execution_count": 22,
     "metadata": {},
     "output_type": "execute_result"
    }
   ],
   "source": [
    "print(len(text1))\n",
    "print(len(text2))\n",
    "\n",
    "len(lcs(text1, text2))\n"
   ]
  },
  {
   "cell_type": "markdown",
   "metadata": {},
   "source": [
    "### 8. Diff:"
   ]
  },
  {
   "cell_type": "code",
   "execution_count": 25,
   "metadata": {},
   "outputs": [],
   "source": [
    "def diff(seq1, seq2, algorithm=distance):\n",
    "    sequence = []\n",
    "\n",
    "    dist, op = algorithm(seq1, seq2, lambda el1, el2: delta(el1, el2) * 2)\n",
    "    for i, j, op in get_sequence(dist, op):\n",
    "        if op == 1:\n",
    "            sequence.append((\"<\", seq1[i]))\n",
    "        if op == 2:\n",
    "            sequence.append((\">\", seq2[j]))\n",
    "\n",
    "    return sequence\n"
   ]
  },
  {
   "cell_type": "markdown",
   "metadata": {},
   "source": [
    "### 9. Demonstracja:"
   ]
  },
  {
   "cell_type": "code",
   "execution_count": 26,
   "metadata": {},
   "outputs": [
    {
     "data": {
      "text/plain": [
       "[('>', 'ESKALUS'),\n",
       " ('>', 'naczelnicy'),\n",
       " ('>', 'synowiec'),\n",
       " ('<', 'Pani'),\n",
       " ('>', '—'),\n",
       " ('>', '—'),\n",
       " ('>', 'Kapuleta'),\n",
       " ('>', 'ABRAHAM'),\n",
       " ('<', 'przyjaciół'),\n",
       " ('<', 'przez'),\n",
       " ('>', 'w'),\n",
       " ('>', 'PROLOG'),\n",
       " ('>', 'zacne'),\n",
       " ('>', 'szlachetną'),\n",
       " ('>', 'wzięło'),\n",
       " ('<', 'cierpliwymi'),\n",
       " ('>', 'my'),\n",
       " ('<', 'błędy…'),\n",
       " ('>', 'nie'),\n",
       " ('<', 'będziem'),\n",
       " ('>', 'będziemy'),\n",
       " ('<', 'z'),\n",
       " ('>', 'zaraz,'),\n",
       " ('<', 'tylko'),\n",
       " ('<', 'miejscu.'),\n",
       " ('>', 'SAMSON'),\n",
       " ('>', 'o'),\n",
       " ('<', 'SAMSON'),\n",
       " ('>', 'miecz'),\n",
       " ('<', 'do'),\n",
       " ('>', 'oto'),\n",
       " ('>', 'SAMSON'),\n",
       " ('<', 'GRZEGORZ'),\n",
       " ('>', 'za'),\n",
       " ('>', 'im'),\n",
       " ('>', 'sobie,'),\n",
       " ('<', 'sobą,'),\n",
       " ('>', 'GRZEGORZ'),\n",
       " ('<', 'będzie.'),\n",
       " ('>', 'ukazuje'),\n",
       " ('<', 'krewnych'),\n",
       " ('>', 'o'),\n",
       " ('<', 'BENWOLIO'),\n",
       " ('<', 'parobkami?'),\n",
       " ('>', 'jak'),\n",
       " ('>', 'zwady;'),\n",
       " ('>', 'z'),\n",
       " ('>', 'PIERWSZY'),\n",
       " ('>', 'Książę'),\n",
       " ('>', 'zwierzęta,'),\n",
       " ('<', 'Co'),\n",
       " ('>', 'własnych'),\n",
       " ('>', 'purpurowym;'),\n",
       " ('>', 'wypuśćcie'),\n",
       " ('>', 'By'),\n",
       " ('<', 'wszystkich'),\n",
       " ('<', '/'),\n",
       " ('<', 'siec'),\n",
       " ('>', 'obu'),\n",
       " ('>', 'stron'),\n",
       " ('<', 'go'),\n",
       " ('<', 'był'),\n",
       " ('>', 'W'),\n",
       " ('<', 'co'),\n",
       " ('<', 'Tam,'),\n",
       " ('<', 'w'),\n",
       " ('<', 'kotarę,'),\n",
       " ('<', 'w'),\n",
       " ('<', 'czarne'),\n",
       " ('>', 'wszelkiej'),\n",
       " ('>', 'tak'),\n",
       " ('>', 'swoją'),\n",
       " ('<', '/'),\n",
       " ('<', 'stronę;'),\n",
       " ('<', 'tamtą'),\n",
       " ('<', 'Tak'),\n",
       " ('<', 'Lecz'),\n",
       " ('>', 'Nieposiadanie'),\n",
       " ('<', 'ROMEO'),\n",
       " ('<', 'się'),\n",
       " ('>', 'tak'),\n",
       " ('>', 'ROMEO'),\n",
       " ('<', 'nim,'),\n",
       " ('>', 'tu'),\n",
       " ('<', 'wy'),\n",
       " ('<', 'sprzeczności'),\n",
       " ('<', 'ROMEO'),\n",
       " ('>', 'To'),\n",
       " ('<', 'ja'),\n",
       " ('>', 'tu,'),\n",
       " ('<', 'Powiedz.'),\n",
       " ('>', 'Gdym'),\n",
       " ('<', 'twardą'),\n",
       " ('>', 'nie'),\n",
       " ('<', 'się'),\n",
       " ('<', 'w'),\n",
       " ('>', 'biedna,'),\n",
       " ('<', 'mądra'),\n",
       " ('<', 'wolność')]"
      ]
     },
     "execution_count": 26,
     "metadata": {},
     "output_type": "execute_result"
    }
   ],
   "source": [
    "diff(text1, text2)"
   ]
  }
 ],
 "metadata": {
  "kernelspec": {
   "display_name": "base",
   "language": "python",
   "name": "python3"
  },
  "language_info": {
   "codemirror_mode": {
    "name": "ipython",
    "version": 3
   },
   "file_extension": ".py",
   "mimetype": "text/x-python",
   "name": "python",
   "nbconvert_exporter": "python",
   "pygments_lexer": "ipython3",
   "version": "3.10.9 (main, Mar  1 2023, 18:23:06) [GCC 11.2.0]"
  },
  "orig_nbformat": 4,
  "vscode": {
   "interpreter": {
    "hash": "586ad1ed5c97141e2437e681efbf1ec0adcd17d830cf5af2ca3d2819e743e158"
   }
  }
 },
 "nbformat": 4,
 "nbformat_minor": 2
}
