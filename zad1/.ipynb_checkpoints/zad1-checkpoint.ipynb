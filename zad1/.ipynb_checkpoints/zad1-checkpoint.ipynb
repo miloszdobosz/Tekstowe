{
 "cells": [
  {
   "cell_type": "markdown",
   "id": "bfa1ca63",
   "metadata": {},
   "source": [
    "## Implementacje algorytmów\n",
    "Naiwny (podpunkt 1.1):"
   ]
  },
  {
   "cell_type": "code",
   "execution_count": 135,
   "id": "9086f958",
   "metadata": {},
   "outputs": [],
   "source": [
    "def naive(text, pattern):\n",
    "    result = []\n",
    "\n",
    "    for i in range(len(text) - len(pattern) + 1):\n",
    "        for j in range(len(pattern)):\n",
    "            if pattern[j] != text[i + j]:\n",
    "                # NIEDOPASOWANIE\n",
    "                break\n",
    "        else:\n",
    "            # DOPASOWANIE\n",
    "            result.append(i)\n",
    "    \n",
    "    return result\n"
   ]
  },
  {
   "cell_type": "markdown",
   "id": "660432ab",
   "metadata": {},
   "source": [
    "Automat skończony (podpunkt 1.2):"
   ]
  },
  {
   "cell_type": "code",
   "execution_count": 136,
   "id": "4ff3bc82",
   "metadata": {},
   "outputs": [],
   "source": [
    "def transition_table(pattern):\n",
    "    alphabet = {e for e in pattern}\n",
    "    result = []\n",
    "\n",
    "    for q in range(0, len(pattern) + 1):\n",
    "        result.append({})\n",
    "\n",
    "        for a in alphabet:\n",
    "            k = min(len(pattern) + 1, q + 2)\n",
    "\n",
    "            while True:\n",
    "                k = k - 1\n",
    "                # x[:k] - prefiks o długości k\n",
    "                # x[-k:] - sufiks o długości k\n",
    "                if(k == 0 or pattern[:k] == (pattern[:q] + a)[-k:]):\n",
    "                    break\n",
    "                \n",
    "            result[q][a] = k\n",
    "    return result\n",
    "\n",
    "def automat(text, pattern):\n",
    "    result = []\n",
    "    table = transition_table(pattern)\n",
    "\n",
    "    length = len(pattern)\n",
    "    q = 0\n",
    "\n",
    "    for i, t in enumerate(text):\n",
    "        if t in table[q]:\n",
    "            q = table[q][t]\n",
    "        \n",
    "            if q == length:\n",
    "                # DOPASOWANIE\n",
    "                result.append(i - length + 1)\n",
    "        \n",
    "        else:\n",
    "            q = 0\n",
    "    \n",
    "    return result\n"
   ]
  },
  {
   "cell_type": "markdown",
   "id": "342e979f",
   "metadata": {},
   "source": [
    "Knutha-Morrisa-Pratta (podpunkt 1.3):"
   ]
  },
  {
   "cell_type": "code",
   "execution_count": 137,
   "id": "29c711b6",
   "metadata": {},
   "outputs": [],
   "source": [
    "def prefix_function(pattern):\n",
    "    pi = [0]\n",
    "    k = 0\n",
    "\n",
    "    for q in range(1, len(pattern)):\n",
    "        while(k > 0 and pattern[k] != pattern[q]):\n",
    "            k = pi[k - 1]\n",
    "\n",
    "        if(pattern[k] == pattern[q]):\n",
    "            k = k + 1\n",
    "            \n",
    "        pi.append(k)\n",
    "\n",
    "    return pi\n",
    "\n",
    "def kmp(text, pattern):\n",
    "    result = []\n",
    "    pi = prefix_function(pattern)\n",
    "    \n",
    "    length = len(pattern)\n",
    "    q = 0\n",
    "\n",
    "    for i, t in enumerate(text):\n",
    "        while(q > 0 and pattern[q] != text[i]):\n",
    "            # NIEDOPASOWANIE\n",
    "            q = pi[q-1]\n",
    "\n",
    "        if(pattern[q] == text[i]):\n",
    "            q = q + 1\n",
    "\n",
    "        if q == length:\n",
    "            # DOPASOWANIE\n",
    "            result.append(i - length + 1)\n",
    "            q = pi[q - 1]\n",
    "    \n",
    "    return result\n"
   ]
  },
  {
   "cell_type": "markdown",
   "id": "dbe87144",
   "metadata": {},
   "source": [
    "## Otwieranie plików"
   ]
  },
  {
   "cell_type": "code",
   "execution_count": 138,
   "id": "5c0455b2",
   "metadata": {},
   "outputs": [],
   "source": [
    "text = open(\"1997_714.txt\", \"r\").read()\n",
    "wiki = open(\"passages-head.tsv\").read()"
   ]
  },
  {
   "cell_type": "markdown",
   "id": "c18f4cc9",
   "metadata": {},
   "source": [
    "## Pomiary"
   ]
  },
  {
   "cell_type": "code",
   "execution_count": 139,
   "id": "fad71d45",
   "metadata": {},
   "outputs": [],
   "source": [
    "import time"
   ]
  },
  {
   "cell_type": "markdown",
   "id": "84d6ec72",
   "metadata": {},
   "source": [
    "Testy (podpunkt 2):"
   ]
  },
  {
   "cell_type": "code",
   "execution_count": 140,
   "id": "fe71d3e7",
   "metadata": {},
   "outputs": [],
   "source": [
    "def measure(function):\n",
    "    start = time.time()\n",
    "    function()\n",
    "    return time.time() - start\n",
    "\n",
    "def measure_all(text, pattern):\n",
    "    print(\"Naiwny zajmuje:\\t\\t\", measure(lambda: naive(text, pattern)), \"s.\")\n",
    "    print(\"Automat zajmuje:\\t\", measure(lambda: automat(text, pattern)), \"s.\")\n",
    "    print(\"  W tym preprocessing:\\t\", measure(lambda: transition_table(pattern)), \"s.\")\n",
    "    print(\"KMP zajmuje:\\t\\t\", measure(lambda: kmp(text, pattern)), \"s.\")\n",
    "    print(\"  W tym preprocessing:\\t\", measure(lambda: prefix_function(pattern)), \"s.\")"
   ]
  },
  {
   "cell_type": "markdown",
   "id": "fee3addd",
   "metadata": {},
   "source": [
    "Znajdowanie wzorca \"art\" w ustawie (podpunkt 3):"
   ]
  },
  {
   "cell_type": "code",
   "execution_count": 141,
   "id": "547b2598",
   "metadata": {},
   "outputs": [
    {
     "name": "stdout",
     "output_type": "stream",
     "text": [
      "Naiwny:\n",
      "[1156, 1505, 4692, 4734, 4879, 5082, 5148, 5949, 6039, 7266, 7511, 7781, 8044, 8299, 9104, 9959, 10022, 10224, 11122, 11207, 11618, 13194, 15284, 15358, 16092, 16261, 16406, 16547, 16616, 16840, 16856, 23637, 24061, 24152, 24586, 24683, 24780, 24931, 25530, 25689, 27001, 27288, 27479, 27542, 27592, 27857, 28373, 28558, 28766, 30964, 31021, 31096, 31362, 31811, 32609, 32968, 33053, 33268, 33595, 34651, 34737, 35511, 36155, 37143, 37543, 38451, 38595, 39056, 39210, 39436, 39568, 39980, 41152, 41829, 42028, 42198, 42371, 42504, 42718, 42896, 42941, 43447, 43555, 43787, 44590, 44653, 44953, 45010, 45293, 45401, 47319, 47422, 48785, 48820, 48906, 49052, 49259, 49316, 49488, 49559, 49915, 49979, 50102, 50160, 50702, 51050, 51179, 51966, 52071, 52272, 52552, 53008, 53032, 53211, 53788, 53931, 54078, 54137, 54770, 55075, 55279, 55465, 55807, 55991, 56827, 56911, 57164, 57549, 57800, 57932, 57989, 58280, 58378, 58874, 58966, 59395, 59523, 59949, 60296, 60549, 60794, 61262, 61770, 62463, 62610, 62663, 63504, 63698, 63789, 63869, 65075, 65114, 65176, 66024, 66330, 66982, 67056, 67578, 67695, 67720, 67852, 67926, 68226, 68854, 69046, 69172, 69249, 69604, 69697, 69794, 70109, 70512, 70664, 70698, 71561, 71705, 72106, 72314, 73115, 74253, 75346, 75470, 75486, 75493, 75717, 75803, 75871, 76247, 77030, 78047, 78558, 78872, 78936, 78970, 79091, 79270, 79341, 79410, 79448, 79582, 79822, 79884, 80848, 83234, 84578, 84828, 85834, 86793, 86819, 87093, 87174, 87359, 87399, 87640, 87707, 87947, 88033, 88073, 88136, 88391, 88665, 88940, 89047, 89316, 89325, 89341, 89361, 90167, 90218, 90572, 91682, 91795, 92916, 93366, 93426, 93561, 94603, 94808, 95981, 96120, 97285, 98770, 99825, 102953, 104141, 104723, 105767, 105973, 110186, 115010, 115163, 116109, 144052, 158607, 159478, 161581, 162788, 163969, 168897, 169074, 178453, 185631, 200530, 200628, 202696, 206794, 209181, 211819, 212319, 217444, 217891, 223168, 223252]\n",
      "\n",
      "Automat:\n",
      "[1156, 1505, 4692, 4734, 4879, 5082, 5148, 5949, 6039, 7266, 7511, 7781, 8044, 8299, 9104, 9959, 10022, 10224, 11122, 11207, 11618, 13194, 15284, 15358, 16092, 16261, 16406, 16547, 16616, 16840, 16856, 23637, 24061, 24152, 24586, 24683, 24780, 24931, 25530, 25689, 27001, 27288, 27479, 27542, 27592, 27857, 28373, 28558, 28766, 30964, 31021, 31096, 31362, 31811, 32609, 32968, 33053, 33268, 33595, 34651, 34737, 35511, 36155, 37143, 37543, 38451, 38595, 39056, 39210, 39436, 39568, 39980, 41152, 41829, 42028, 42198, 42371, 42504, 42718, 42896, 42941, 43447, 43555, 43787, 44590, 44653, 44953, 45010, 45293, 45401, 47319, 47422, 48785, 48820, 48906, 49052, 49259, 49316, 49488, 49559, 49915, 49979, 50102, 50160, 50702, 51050, 51179, 51966, 52071, 52272, 52552, 53008, 53032, 53211, 53788, 53931, 54078, 54137, 54770, 55075, 55279, 55465, 55807, 55991, 56827, 56911, 57164, 57549, 57800, 57932, 57989, 58280, 58378, 58874, 58966, 59395, 59523, 59949, 60296, 60549, 60794, 61262, 61770, 62463, 62610, 62663, 63504, 63698, 63789, 63869, 65075, 65114, 65176, 66024, 66330, 66982, 67056, 67578, 67695, 67720, 67852, 67926, 68226, 68854, 69046, 69172, 69249, 69604, 69697, 69794, 70109, 70512, 70664, 70698, 71561, 71705, 72106, 72314, 73115, 74253, 75346, 75470, 75486, 75493, 75717, 75803, 75871, 76247, 77030, 78047, 78558, 78872, 78936, 78970, 79091, 79270, 79341, 79410, 79448, 79582, 79822, 79884, 80848, 83234, 84578, 84828, 85834, 86793, 86819, 87093, 87174, 87359, 87399, 87640, 87707, 87947, 88033, 88073, 88136, 88391, 88665, 88940, 89047, 89316, 89325, 89341, 89361, 90167, 90218, 90572, 91682, 91795, 92916, 93366, 93426, 93561, 94603, 94808, 95981, 96120, 97285, 98770, 99825, 102953, 104141, 104723, 105767, 105973, 110186, 115010, 115163, 116109, 144052, 158607, 159478, 161581, 162788, 163969, 168897, 169074, 178453, 185631, 200530, 200628, 202696, 206794, 209181, 211819, 212319, 217444, 217891, 223168, 223252]\n",
      "\n",
      "KMP:\n",
      "[1156, 1505, 4692, 4734, 4879, 5082, 5148, 5949, 6039, 7266, 7511, 7781, 8044, 8299, 9104, 9959, 10022, 10224, 11122, 11207, 11618, 13194, 15284, 15358, 16092, 16261, 16406, 16547, 16616, 16840, 16856, 23637, 24061, 24152, 24586, 24683, 24780, 24931, 25530, 25689, 27001, 27288, 27479, 27542, 27592, 27857, 28373, 28558, 28766, 30964, 31021, 31096, 31362, 31811, 32609, 32968, 33053, 33268, 33595, 34651, 34737, 35511, 36155, 37143, 37543, 38451, 38595, 39056, 39210, 39436, 39568, 39980, 41152, 41829, 42028, 42198, 42371, 42504, 42718, 42896, 42941, 43447, 43555, 43787, 44590, 44653, 44953, 45010, 45293, 45401, 47319, 47422, 48785, 48820, 48906, 49052, 49259, 49316, 49488, 49559, 49915, 49979, 50102, 50160, 50702, 51050, 51179, 51966, 52071, 52272, 52552, 53008, 53032, 53211, 53788, 53931, 54078, 54137, 54770, 55075, 55279, 55465, 55807, 55991, 56827, 56911, 57164, 57549, 57800, 57932, 57989, 58280, 58378, 58874, 58966, 59395, 59523, 59949, 60296, 60549, 60794, 61262, 61770, 62463, 62610, 62663, 63504, 63698, 63789, 63869, 65075, 65114, 65176, 66024, 66330, 66982, 67056, 67578, 67695, 67720, 67852, 67926, 68226, 68854, 69046, 69172, 69249, 69604, 69697, 69794, 70109, 70512, 70664, 70698, 71561, 71705, 72106, 72314, 73115, 74253, 75346, 75470, 75486, 75493, 75717, 75803, 75871, 76247, 77030, 78047, 78558, 78872, 78936, 78970, 79091, 79270, 79341, 79410, 79448, 79582, 79822, 79884, 80848, 83234, 84578, 84828, 85834, 86793, 86819, 87093, 87174, 87359, 87399, 87640, 87707, 87947, 88033, 88073, 88136, 88391, 88665, 88940, 89047, 89316, 89325, 89341, 89361, 90167, 90218, 90572, 91682, 91795, 92916, 93366, 93426, 93561, 94603, 94808, 95981, 96120, 97285, 98770, 99825, 102953, 104141, 104723, 105767, 105973, 110186, 115010, 115163, 116109, 144052, 158607, 159478, 161581, 162788, 163969, 168897, 169074, 178453, 185631, 200530, 200628, 202696, 206794, 209181, 211819, 212319, 217444, 217891, 223168, 223252]\n"
     ]
    }
   ],
   "source": [
    "print(\"Naiwny:\")\n",
    "print(naive(text, \"art\"))\n",
    "print()\n",
    "print(\"Automat:\")\n",
    "print(automat(text, \"art\"))\n",
    "print()\n",
    "print(\"KMP:\")\n",
    "print(kmp(text, \"art\"))"
   ]
  },
  {
   "cell_type": "markdown",
   "id": "76e8c1e3",
   "metadata": {},
   "source": [
    "Pomiar czasu dla wzorca \"art\" w ustawie (podpunkt 4):"
   ]
  },
  {
   "cell_type": "code",
   "execution_count": 142,
   "id": "a26da96b",
   "metadata": {},
   "outputs": [
    {
     "name": "stdout",
     "output_type": "stream",
     "text": [
      "Naiwny zajmuje:\t\t 0.10247540473937988 s.\n",
      "Automat zajmuje:\t 0.02831578254699707 s.\n",
      "  W tym preprocessing:\t 2.86102294921875e-05 s.\n",
      "KMP zajmuje:\t\t 0.04338407516479492 s.\n",
      "  W tym preprocessing:\t 7.152557373046875e-06 s.\n"
     ]
    }
   ],
   "source": [
    "measure_all(text, \"art\")"
   ]
  },
  {
   "cell_type": "markdown",
   "id": "9118d2e1",
   "metadata": {},
   "source": [
    "Pomiar czasu dla wzorca \"Ukraina\" we fragmencie Wikipedii (podpunkt 5):"
   ]
  },
  {
   "cell_type": "code",
   "execution_count": null,
   "id": "e266874d",
   "metadata": {},
   "outputs": [],
   "source": [
    "measure_all(wiki, \"Ukraina\")"
   ]
  },
  {
   "cell_type": "markdown",
   "id": "307bac9b",
   "metadata": {},
   "source": [
    "## Propozycje\n",
    "Propozycja zarówno dla podpunktu 6 co 7."
   ]
  },
  {
   "cell_type": "code",
   "execution_count": null,
   "id": "1908d82b",
   "metadata": {},
   "outputs": [],
   "source": [
    "t = \"a\" * 10000 + \"b\"\n",
    "p = \"a\" * 100 + \"b\"\n",
    "\n",
    "measure_all(t, p)"
   ]
  }
 ],
 "metadata": {
  "kernelspec": {
   "display_name": "Python 3",
   "language": "python",
   "name": "python3"
  },
  "language_info": {
   "codemirror_mode": {
    "name": "ipython",
    "version": 3
   },
   "file_extension": ".py",
   "mimetype": "text/x-python",
   "name": "python",
   "nbconvert_exporter": "python",
   "pygments_lexer": "ipython3",
   "version": "3.8.8"
  }
 },
 "nbformat": 4,
 "nbformat_minor": 5
}
