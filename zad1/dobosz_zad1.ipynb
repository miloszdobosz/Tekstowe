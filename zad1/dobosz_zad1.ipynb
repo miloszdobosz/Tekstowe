{
 "cells": [
  {
   "cell_type": "markdown",
   "id": "0d4d6166",
   "metadata": {},
   "source": [
    "## Implementacje algorytmów\n",
    "Naiwny (podpunkt 1.1):"
   ]
  },
  {
   "cell_type": "code",
   "execution_count": 1,
   "id": "71fcc7ea",
   "metadata": {},
   "outputs": [],
   "source": [
    "def naive(text, pattern):\n",
    "    result = []\n",
    "\n",
    "    for i in range(len(text) - len(pattern) + 1):\n",
    "        for j in range(len(pattern)):\n",
    "            if pattern[j] != text[i + j]:\n",
    "                # NIEDOPASOWANIE\n",
    "                break\n",
    "        else:\n",
    "            # DOPASOWANIE\n",
    "            result.append(i)\n",
    "\n",
    "    return result\n"
   ]
  },
  {
   "cell_type": "markdown",
   "id": "d6da88b1",
   "metadata": {},
   "source": [
    "Automat skończony (podpunkt 1.2):"
   ]
  },
  {
   "cell_type": "code",
   "execution_count": 2,
   "id": "1846677d",
   "metadata": {},
   "outputs": [],
   "source": [
    "def transition_table(pattern):\n",
    "    alphabet = {e for e in pattern}\n",
    "    result = []\n",
    "\n",
    "    for q in range(0, len(pattern) + 1):\n",
    "        result.append({})\n",
    "\n",
    "        for a in alphabet:\n",
    "            k = min(len(pattern), q + 1)\n",
    "\n",
    "            while True:\n",
    "                # x[:k] - prefiks o długości k\n",
    "                # x[-k:] - sufiks o długości k\n",
    "                if k == 0 or pattern[:k] == (pattern[:q] + a)[-k:]:\n",
    "                    break\n",
    "                k -= 1\n",
    "\n",
    "            result[q][a] = k\n",
    "    return result\n",
    "\n",
    "\n",
    "def automat(text, pattern):\n",
    "    result = []\n",
    "    table = transition_table(pattern)\n",
    "\n",
    "    length = len(pattern)\n",
    "    q = 0\n",
    "\n",
    "    for i, t in enumerate(text):\n",
    "        if t in table[q]:\n",
    "            q = table[q][t]\n",
    "\n",
    "            if q == length:\n",
    "                # DOPASOWANIE\n",
    "                result.append(i - length + 1)\n",
    "\n",
    "        else:\n",
    "            q = 0\n",
    "\n",
    "    return result\n"
   ]
  },
  {
   "cell_type": "markdown",
   "id": "710d2bf3",
   "metadata": {},
   "source": [
    "Knutha-Morrisa-Pratta (podpunkt 1.3):"
   ]
  },
  {
   "cell_type": "code",
   "execution_count": 3,
   "id": "0eff772c",
   "metadata": {},
   "outputs": [],
   "source": [
    "def prefix_function(pattern):\n",
    "    pi = [0]\n",
    "    k = 0\n",
    "\n",
    "    for q in range(1, len(pattern)):\n",
    "        while k > 0 and pattern[k] != pattern[q]:\n",
    "            k = pi[k - 1]\n",
    "\n",
    "        if pattern[k] == pattern[q]:\n",
    "            k = k + 1\n",
    "\n",
    "        pi.append(k)\n",
    "\n",
    "    return pi\n",
    "\n",
    "\n",
    "def kmp(text, pattern):\n",
    "    result = []\n",
    "    pi = prefix_function(pattern)\n",
    "\n",
    "    length = len(pattern)\n",
    "    q = 0\n",
    "\n",
    "    for i, t in enumerate(text):\n",
    "        while q > 0 and pattern[q] != text[i]:\n",
    "            # NIEDOPASOWANIE\n",
    "            q = pi[q - 1]\n",
    "\n",
    "        if pattern[q] == text[i]:\n",
    "            q = q + 1\n",
    "\n",
    "        if q == length:\n",
    "            # DOPASOWANIE\n",
    "            result.append(i - length + 1)\n",
    "            q = pi[q - 1]\n",
    "\n",
    "    return result\n"
   ]
  },
  {
   "cell_type": "markdown",
   "id": "4e7cdaf2",
   "metadata": {},
   "source": [
    "## Pomiary"
   ]
  },
  {
   "cell_type": "code",
   "execution_count": 4,
   "id": "20c9aa9d",
   "metadata": {},
   "outputs": [],
   "source": [
    "text = open(\"pan-tadeusz.txt\", \"r\").read()\n"
   ]
  },
  {
   "cell_type": "code",
   "execution_count": 5,
   "id": "4064a8f8",
   "metadata": {},
   "outputs": [],
   "source": [
    "import time\n"
   ]
  },
  {
   "cell_type": "markdown",
   "id": "e4fc9654",
   "metadata": {},
   "source": [
    "Testy (podpunkt 2):"
   ]
  },
  {
   "cell_type": "code",
   "execution_count": 6,
   "id": "a0a24feb",
   "metadata": {},
   "outputs": [],
   "source": [
    "def measure(function):\n",
    "    start = time.time()\n",
    "    function()\n",
    "    return time.time() - start\n",
    "\n",
    "\n",
    "def measure_many(function, count):\n",
    "    return sum([measure(function) for i in range(count)]) / count\n",
    "\n",
    "\n",
    "def measure_all(text, pattern, count=5):\n",
    "    print(\n",
    "        \"Naiwny zajmuje:\\t\\t\", measure_many(lambda: naive(text, pattern), count), \"s.\"\n",
    "    )\n",
    "    print(\n",
    "        \"Automat zajmuje:\\t\", measure_many(lambda: automat(text, pattern), count), \"s.\"\n",
    "    )\n",
    "    print(\n",
    "        \"  W tym preprocessing:\\t\",\n",
    "        measure_many(lambda: transition_table(pattern), count),\n",
    "        \"s.\",\n",
    "    )\n",
    "    print(\"KMP zajmuje:\\t\\t\", measure_many(lambda: kmp(text, pattern), count), \"s.\")\n",
    "    print(\n",
    "        \"  W tym preprocessing:\\t\",\n",
    "        measure_many(lambda: prefix_function(pattern), count),\n",
    "        \"s.\",\n",
    "    )\n"
   ]
  },
  {
   "cell_type": "markdown",
   "id": "045fc06e",
   "metadata": {},
   "source": [
    "Znajdowanie wzorca \"pan\" we fragmencie (podpunkt 3):"
   ]
  },
  {
   "cell_type": "code",
   "execution_count": 7,
   "id": "c93d0811",
   "metadata": {},
   "outputs": [
    {
     "name": "stdout",
     "output_type": "stream",
     "text": [
      "Naiwny:\n",
      "\tPan:  401 \tPani:  100\n",
      "\n",
      "Automat:\n",
      "\tPan:  401 \tPani:  100\n",
      "\n",
      "KMP:\n",
      "\tPan:  401 \tPani:  100\n",
      "\n"
     ]
    }
   ],
   "source": [
    "print(\"Naiwny:\")\n",
    "print(\"\\tPan: \", len(naive(text, \"pan\")), \"\\tPani: \", len(naive(text, \"pani\")))\n",
    "print()\n",
    "\n",
    "print(\"Automat:\")\n",
    "print(\"\\tPan: \", len(automat(text, \"pan\")), \"\\tPani: \", len(automat(text, \"pani\")))\n",
    "print()\n",
    "\n",
    "print(\"KMP:\")\n",
    "print(\"\\tPan: \", len(kmp(text, \"pan\")), \"\\tPani: \", len(kmp(text, \"pani\")))\n",
    "print()\n"
   ]
  },
  {
   "cell_type": "markdown",
   "id": "560202a6",
   "metadata": {},
   "source": [
    "Pomiar czasu dla wzorców \"pan\" i \"pani\" we fragmencie (podpunkt 4):"
   ]
  },
  {
   "cell_type": "code",
   "execution_count": 8,
   "id": "9269826e",
   "metadata": {},
   "outputs": [
    {
     "name": "stdout",
     "output_type": "stream",
     "text": [
      "Naiwny zajmuje:\t\t 0.12914628982543946 s.\n",
      "Automat zajmuje:\t 0.04792141914367676 s.\n",
      "  W tym preprocessing:\t 1.5115737915039062e-05 s.\n",
      "KMP zajmuje:\t\t 0.07387838363647461 s.\n",
      "  W tym preprocessing:\t 1.049041748046875e-06 s.\n"
     ]
    }
   ],
   "source": [
    "measure_all(text, \"pan\")\n"
   ]
  },
  {
   "cell_type": "code",
   "execution_count": 9,
   "id": "2e59291c",
   "metadata": {},
   "outputs": [
    {
     "name": "stdout",
     "output_type": "stream",
     "text": [
      "Naiwny zajmuje:\t\t 0.1490077018737793 s.\n",
      "Automat zajmuje:\t 0.047906494140625 s.\n",
      "  W tym preprocessing:\t 2.6035308837890626e-05 s.\n",
      "KMP zajmuje:\t\t 0.08041000366210938 s.\n",
      "  W tym preprocessing:\t 1.2874603271484376e-06 s.\n"
     ]
    }
   ],
   "source": [
    "measure_all(text, \"pani\")\n"
   ]
  },
  {
   "cell_type": "markdown",
   "id": "519c96dd",
   "metadata": {},
   "source": [
    "## Propozycje\n",
    "Poniższy dobór tekstu i wzorca sprawia że algorytm naiwny wypada wielokrotnie wolniej (podpunkt 5):"
   ]
  },
  {
   "cell_type": "code",
   "execution_count": 10,
   "id": "2a9c6f3c",
   "metadata": {},
   "outputs": [
    {
     "name": "stdout",
     "output_type": "stream",
     "text": [
      "Naiwny zajmuje:\t\t 0.10018291473388671 s.\n",
      "Automat zajmuje:\t 0.0031793594360351564 s.\n",
      "  W tym preprocessing:\t 0.0016825675964355468 s.\n",
      "KMP zajmuje:\t\t 0.003362417221069336 s.\n",
      "  W tym preprocessing:\t 3.0994415283203125e-05 s.\n"
     ]
    }
   ],
   "source": [
    "t = \"a\" * 10000 + \"b\"\n",
    "p = \"a\" * 100 + \"b\"\n",
    "\n",
    "measure_all(t, p)\n"
   ]
  },
  {
   "cell_type": "markdown",
   "id": "78b96a63",
   "metadata": {},
   "source": [
    "## Wnioski\n",
    "Pewnie w większości zastosowań praktycznych nie zauważylibyśmy znacznej różnicy w czasie działania powyższych algorytmów bo wielkość wzorca jest zaniedbywalna w stosunku do wielkości tekstu. Nic nie stoi jednak na przeszkodzie żeby używać zawsze KMP, zwłaszcza że nie jest właściwie trudniejszy w implementacji oraz preprocessing nie wymaga praktycznie żadnych zasobów. Wyjątkiem może byłyby specyficzne sytuacje w których np wzorzec zmienia się w trakcie przeszukiwania ale to już nie jest ten sam problem. (podpunkt 6)"
   ]
  }
 ],
 "metadata": {
  "kernelspec": {
   "display_name": "base",
   "language": "python",
   "name": "python3"
  },
  "language_info": {
   "codemirror_mode": {
    "name": "ipython",
    "version": 3
   },
   "file_extension": ".py",
   "mimetype": "text/x-python",
   "name": "python",
   "nbconvert_exporter": "python",
   "pygments_lexer": "ipython3",
   "version": "3.10.9 (main, Mar  1 2023, 18:23:06) [GCC 11.2.0]"
  },
  "vscode": {
   "interpreter": {
    "hash": "586ad1ed5c97141e2437e681efbf1ec0adcd17d830cf5af2ca3d2819e743e158"
   }
  }
 },
 "nbformat": 4,
 "nbformat_minor": 5
}
